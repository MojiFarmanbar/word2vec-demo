{
 "cells": [
  {
   "cell_type": "markdown",
   "metadata": {},
   "source": [
    "# Amazon fine food review"
   ]
  },
  {
   "cell_type": "code",
   "execution_count": null,
   "metadata": {},
   "outputs": [],
   "source": [
    "import pandas as pd\n",
    "import spacy\n",
    "from gensim.models import Word2Vec"
   ]
  },
  {
   "cell_type": "markdown",
   "metadata": {},
   "source": [
    "## Loading data"
   ]
  },
  {
   "cell_type": "code",
   "execution_count": null,
   "metadata": {},
   "outputs": [],
   "source": [
    "from datasets import load_dataset\n",
    "dataset = load_dataset(\"jhan21/amazon-food-reviews-dataset\")"
   ]
  },
  {
   "cell_type": "code",
   "execution_count": null,
   "metadata": {},
   "outputs": [],
   "source": [
    "dataset.set_format(type='pandas')\n",
    "df = dataset['train'][:]\n",
    "df"
   ]
  },
  {
   "cell_type": "code",
   "execution_count": null,
   "metadata": {},
   "outputs": [],
   "source": [
    "# Load the English model\n",
    "nlp = spacy.load(\"en_core_web_md\")\n",
    "\n",
    "# Function to tokenize and lowercase sentences\n",
    "def tokenize_and_lowercase(x, column_name):\n",
    "    text = x[column_name]\n",
    "    doc = nlp(text)\n",
    "    return [[token.text.lower() for token in sent if not token.is_stop and not token.is_punct] for sent in doc.sents]\n"
   ]
  },
  {
   "cell_type": "code",
   "execution_count": null,
   "metadata": {},
   "outputs": [],
   "source": [
    "# Tokenize and lowercase the text and create list of tokenized sentences\n",
    "df = df.sample(frac=0.5).copy()\n",
    "df['tokenized'] = df.apply(lambda x: tokenize_and_lowercase(x, column_name='Text'), axis=1)\n",
    "\n",
    "# Save the tokenized data\n",
    "df.to_parquet('amazon-food-review-tokenized.parquet', engine='pyarrow')"
   ]
  },
  {
   "cell_type": "code",
   "execution_count": null,
   "metadata": {},
   "outputs": [],
   "source": [
    "# Load the tokenized data\n",
    "df = pd.read_parquet('amazon-food-review-tokenized.parquet', engine='pyarrow')\n",
    "\n",
    "# flatten the list of tokenized sentences\n",
    "list_of_sentences = [list(tokens) for sublist in df['tokenized'].tolist() for tokens in sublist]"
   ]
  },
  {
   "cell_type": "code",
   "execution_count": null,
   "metadata": {},
   "outputs": [],
   "source": [
    "# Create and train the Word2Vec model\n",
    "model_food = Word2Vec(list_of_sentences, vector_size=100, window=5, min_count=5, workers=4, epochs=5, sg=1)\n",
    "\n",
    "# Save the word2vec model\n",
    "model_food.save(\"word2vec_food_review.model\")"
   ]
  },
  {
   "cell_type": "code",
   "execution_count": null,
   "metadata": {},
   "outputs": [],
   "source": [
    "# Load the word2vec model\n",
    "#model_fod = Word2Vec.load(\"word2vec_food_review.model\")\n",
    "\n",
    "# Example usage\n",
    "similar_words = model_food.wv.most_similar('disgusting', topn=5)\n",
    "print(similar_words)"
   ]
  },
  {
   "cell_type": "code",
   "execution_count": null,
   "metadata": {},
   "outputs": [],
   "source": []
  }
 ],
 "metadata": {
  "kernelspec": {
   "display_name": "word2vec-demo",
   "language": "python",
   "name": "python3"
  },
  "language_info": {
   "codemirror_mode": {
    "name": "ipython",
    "version": 3
   },
   "file_extension": ".py",
   "mimetype": "text/x-python",
   "name": "python",
   "nbconvert_exporter": "python",
   "pygments_lexer": "ipython3",
   "version": "3.12.7"
  }
 },
 "nbformat": 4,
 "nbformat_minor": 2
}
